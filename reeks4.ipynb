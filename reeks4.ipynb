{
 "cells": [
  {
   "cell_type": "markdown",
   "metadata": {
    "slideshow": {
     "slide_type": "slide"
    }
   },
   "source": [
    "# Map Projections and Coordinate Systems\n",
    "Course at Ghent University, Department of Geography  \n",
    "Professor Frank Canters\n",
    "\n",
    "## Session 4: Cylindrical Projections and Projection Optimisation\n",
    "Performed in Python using Jupyter Notebook.\n",
    "\n",
    "Written by Manuel Claeys Bouuaert, <manuel.claeysbouuaert@ugent.be>, 2015"
   ]
  },
  {
   "cell_type": "markdown",
   "metadata": {
    "slideshow": {
     "slide_type": "slide"
    }
   },
   "source": [
    "Choosing a good projection for a specific area means choosing:\n",
    "\n",
    "- projection type\n",
    "- projection parameters (standard parallel, Miller coefficients, ...)\n",
    "- coordinates of pseudopole  \n",
    "\n",
    "In this session, we will work with small scale projections (world maps) and only change projection parameters."
   ]
  },
  {
   "cell_type": "markdown",
   "metadata": {
    "slideshow": {
     "slide_type": "subslide"
    }
   },
   "source": [
    "A good choice of the projection parameters is one which minimises the average distortion over the concerned area:  \n",
    "\n",
    "$$ E = \\frac{1}{S} \\int_S e \\,\\mathrm{d}S $$\n",
    "\n",
    "- $E$ is the average distortion\n",
    "- $S$ is the concerned area on the sphere or ellipsoide\n",
    "- $e$ is the local distortion\n",
    "- $\\mathrm{d}S$ is the area of a local infinitessimal surface element"
   ]
  },
  {
   "cell_type": "markdown",
   "metadata": {
    "slideshow": {
     "slide_type": "subslide"
    }
   },
   "source": [
    "In practice, this integral is approximated by a discrete sum, by dividing the sphere into small cells:\n",
    "\n",
    "$$ E = \\frac{1}{S} \\sum_{i} e_i \\, S_i $$\n",
    "\n",
    "$$ S = \\sum_{i} S_i $$\n",
    "\n",
    "- $E$ is the average distortion\n",
    "- $S$ is the concerned area on the sphere or ellipsoide\n",
    "- $e_i$ is the local distortion at the center of a cell\n",
    "- $S_i$ is the area of a local cell"
   ]
  },
  {
   "cell_type": "markdown",
   "metadata": {
    "slideshow": {
     "slide_type": "fragment"
    }
   },
   "source": [
    "Most (non-poly/pseudo) cylindrical projections are invariant under mirroring of $\\phi$ or translation in $\\lambda$, and hence their distortions are too. In those cases, this symmetry means we must only perform a summation over one half meridian: $\\phi = 0 \\rightarrow \\frac{\\pi}{2}$. "
   ]
  },
  {
   "cell_type": "markdown",
   "metadata": {
    "slideshow": {
     "slide_type": "fragment"
    }
   },
   "source": [
    "When deviding the globe ($\\phi = -\\frac{\\pi}{2} \\rightarrow \\frac{\\pi}{2}$ and $\\lambda = -\\pi \\rightarrow \\pi$) into cells of $\\Delta\\lambda$ and $\\Delta\\phi$, the area of a cell scales with $\\cos\\phi$.  \n",
    "The area of the cell at $(\\phi_i,\\lambda_i)$ is $S_i = P_i \\cos{\\phi_i} \\, \\Delta\\phi \\, \\Delta\\lambda$  \n",
    "Since $\\Delta\\phi$ and $\\Delta\\lambda$ are independent of $i$ and also appear in $S$, they cancel out, leading to $S_i = P_i \\cos{\\phi_i}$.\n",
    "\n",
    "The weight factor $P_i$ can be used to select a specific area, by putting $P_i = 1$ there and $P_i = 0$ elsewhere."
   ]
  },
  {
   "cell_type": "markdown",
   "metadata": {
    "slideshow": {
     "slide_type": "subslide"
    }
   },
   "source": [
    "Which local distortions are used?  \n",
    "\n",
    "- Local angular distortion: $e_{an,i} = 2\\Omega_i = 2\\arcsin(\\frac{a_i-b_i}{a_i+b_i})$\n",
    "- Local area distortion: $e_{ar,i} = \\sigma_i^p-1 = (a_ib_i)^p-1$\n",
    "- Local mean linear scale distortion: $e_{ab,i} = \\frac{a_i^q+b_i^r}{2}-1$\n",
    "\n",
    "To ensure that enlarging and shrinking with the same factor has the same weight, we use\n",
    "\n",
    "- $p$ = 1 if $\\sigma_i$ ≥ 1 and $p$ = -1 if $\\sigma_i$ < 1\n",
    "- $q$ = 1 if $a_i$ ≥ 1 and $q$ = -1 if $a_i$ < 1\n",
    "- $r$ = 1 if $b_i$ ≥ 1 and $r$ = -1 if $b_i$ < 1.\n",
    "\n",
    "These are all 'linear distortions' and are used in (1). Other authors have used similar measures, but square the distortions in order to obtain positive values ($e_{an,i}=(\\sigma-1)^2$, $e_{ab,i}=\\frac{1}{2}((a-1)^2+(b-1)^2$). This gives more weight to large distortions, which is yields unfavorable results for small scale projections. Some authors have proposed to use the logarithmic function in distortions. This also allows to attribute enlarging and shrinking with the same factor the same weight, and additionally weights extreme distortions relatively less.  \n",
    "(1) *Canters, F., 2002. Small-scale Map Projection Design. CRC Press.*"
   ]
  },
  {
   "cell_type": "markdown",
   "metadata": {
    "slideshow": {
     "slide_type": "fragment"
    }
   },
   "source": [
    "- Equivalent projections ($e_{ar,i} = 0$) $\\rightarrow$ minimise $e_{an,i}$\n",
    "- Conformal projections ($e_{an,i} = 0$) $\\rightarrow$ minimise $e_{ar,i}$\n",
    "- other projections $\\rightarrow$ minimise $e_{ar,i}$, $e_{an,i}$ and/or $e_{ab,i}$"
   ]
  },
  {
   "cell_type": "markdown",
   "metadata": {
    "slideshow": {
     "slide_type": "slide"
    }
   },
   "source": [
    "### Exercises in Python"
   ]
  },
  {
   "cell_type": "markdown",
   "metadata": {
    "slideshow": {
     "slide_type": "fragment"
    }
   },
   "source": [
    "Load modules"
   ]
  },
  {
   "cell_type": "code",
   "execution_count": 1,
   "metadata": {
    "collapsed": false,
    "slideshow": {
     "slide_type": "fragment"
    }
   },
   "outputs": [],
   "source": [
    "%matplotlib inline \n",
    "# show plots inline\n",
    "import os # to access UNIX commandline\n",
    "import urllib.request # to download files\n",
    "import zipfile # to unzip files\n",
    "import numpy as np # to use arrays etc\n",
    "from scipy import misc # to read images etc\n",
    "import matplotlib.pyplot as plt # to plot\n",
    "import matplotlib.cm as cm # to have colormaps\n",
    "from ipywidgets import * # to have interactive widgets\n",
    "from IPython.display import display, HTML # to have interactive widgets"
   ]
  },
  {
   "cell_type": "markdown",
   "metadata": {
    "slideshow": {
     "slide_type": "fragment"
    }
   },
   "source": [
    "Define latitudes $\\phi$ of cells. (From here on, we drop the index $i$)  \n",
    "We are asked to use cells with an interval of 1° (in stead of 2.5°)."
   ]
  },
  {
   "cell_type": "code",
   "execution_count": 2,
   "metadata": {
    "collapsed": false,
    "slideshow": {
     "slide_type": "fragment"
    }
   },
   "outputs": [
    {
     "name": "stdout",
     "output_type": "stream",
     "text": [
      "[  0.5   1.5   2.5   3.5   4.5   5.5   6.5   7.5   8.5   9.5  10.5  11.5\n",
      "  12.5  13.5  14.5  15.5  16.5  17.5  18.5  19.5  20.5  21.5  22.5  23.5\n",
      "  24.5  25.5  26.5  27.5  28.5  29.5  30.5  31.5  32.5  33.5  34.5  35.5\n",
      "  36.5  37.5  38.5  39.5  40.5  41.5  42.5  43.5  44.5  45.5  46.5  47.5\n",
      "  48.5  49.5  50.5  51.5  52.5  53.5  54.5  55.5  56.5  57.5  58.5  59.5\n",
      "  60.5  61.5  62.5  63.5  64.5  65.5  66.5  67.5  68.5  69.5  70.5  71.5\n",
      "  72.5  73.5  74.5  75.5  76.5  77.5  78.5  79.5  80.5  81.5  82.5  83.5\n",
      "  84.5  85.5  86.5  87.5  88.5  89.5]\n"
     ]
    }
   ],
   "source": [
    "lat_deg = np.arange(0,90,1)+1/2\n",
    "lat=lat_deg/180*np.pi # use radians by default\n",
    "print(lat_deg) # only use degrees when printing or plotting"
   ]
  },
  {
   "cell_type": "markdown",
   "metadata": {
    "slideshow": {
     "slide_type": "fragment"
    }
   },
   "source": [
    "Define weight factor $P$.  \n",
    "We will consider the entire sphere by default."
   ]
  },
  {
   "cell_type": "code",
   "execution_count": 3,
   "metadata": {
    "collapsed": false,
    "slideshow": {
     "slide_type": "fragment"
    }
   },
   "outputs": [],
   "source": [
    "P_ones = np.ones(len(lat))\n",
    "P = P_ones"
   ]
  },
  {
   "cell_type": "markdown",
   "metadata": {
    "slideshow": {
     "slide_type": "fragment"
    }
   },
   "source": [
    "The values `lat` and `P` will be used as global parameters"
   ]
  },
  {
   "cell_type": "markdown",
   "metadata": {
    "slideshow": {
     "slide_type": "fragment"
    }
   },
   "source": [
    "Define functions for different local distortions $e_{..}$ times the local surface area $S$.  \n",
    "They take the local values of $h$ and $k$ as input: the scale factor along the meridians and parallels.  "
   ]
  },
  {
   "cell_type": "code",
   "execution_count": 4,
   "metadata": {
    "collapsed": false,
    "slideshow": {
     "slide_type": "fragment"
    }
   },
   "outputs": [],
   "source": [
    "def eanS(h,k):\n",
    "    global lat, P\n",
    "    a = np.amax(np.vstack((h,k)),axis=0)\n",
    "    b = np.amin(np.vstack((h,k)),axis=0)\n",
    "    twoOmega = 2*np.arcsin((a-b)/(a+b))\n",
    "    eanS = twoOmega*P*np.cos(lat)\n",
    "    return eanS\n",
    "def earS(h,k):\n",
    "    global lat, P\n",
    "    a = np.amax(np.vstack((h,k)),axis=0)\n",
    "    b = np.amin(np.vstack((h,k)),axis=0)\n",
    "    sigma = a*b\n",
    "    p = np.sign(sigma-1)\n",
    "    earS = (np.power(sigma,p)-1)*P*np.cos(lat)\n",
    "    return earS\n",
    "def eabS(h,k):\n",
    "    global lat, P\n",
    "    a = np.amax(np.vstack((h,k)),axis=0)\n",
    "    b = np.amin(np.vstack((h,k)),axis=0)\n",
    "    q = np.sign(a-1)\n",
    "    r = np.sign(b-1)\n",
    "    eabS = ((np.power(a,q)+np.power(b,r))/2-1)*P*np.cos(lat)\n",
    "    return eabS"
   ]
  },
  {
   "cell_type": "markdown",
   "metadata": {
    "slideshow": {
     "slide_type": "fragment"
    }
   },
   "source": [
    "The average distortion $E$ is the average of the local distortion $e$"
   ]
  },
  {
   "cell_type": "code",
   "execution_count": 5,
   "metadata": {
    "collapsed": true,
    "slideshow": {
     "slide_type": "fragment"
    }
   },
   "outputs": [],
   "source": [
    "def E(eS):\n",
    "    global lat, P\n",
    "    S = np.sum(P*np.cos(lat))\n",
    "    E = np.sum(eS)/S\n",
    "    return E"
   ]
  },
  {
   "cell_type": "markdown",
   "metadata": {
    "slideshow": {
     "slide_type": "slide"
    }
   },
   "source": [
    "### Ex. 1: Equivalent Cylindrical Projection with varying standard parallel  \n",
    "Given the secant Equivalent Cylindrical Projection, which value for standard parallel yields the lowest angular distortion over the entire sphere?"
   ]
  },
  {
   "cell_type": "markdown",
   "metadata": {
    "slideshow": {
     "slide_type": "fragment"
    }
   },
   "source": [
    "The Equivalent Cylindrical Projection:\n",
    "\n",
    "$ x = R \\lambda \\cos \\phi_0 $  \n",
    "$ y = \\frac{R}{\\cos \\phi_0} \\sin \\phi $  \n",
    "\n",
    "With (see course notes slide 4.23)\n",
    "\n",
    "$ h = \\frac{\\cos \\phi}{\\cos \\phi_0} $  \n",
    "$ k = \\frac{\\cos \\phi_0}{\\cos \\phi} $"
   ]
  },
  {
   "cell_type": "markdown",
   "metadata": {
    "slideshow": {
     "slide_type": "fragment"
    }
   },
   "source": [
    "Define $h$ and $k$ for this projection, for varying $\\phi_0$"
   ]
  },
  {
   "cell_type": "code",
   "execution_count": 6,
   "metadata": {
    "collapsed": true,
    "slideshow": {
     "slide_type": "fragment"
    }
   },
   "outputs": [],
   "source": [
    "def h_ecp_lat0(lat0):\n",
    "    global lat\n",
    "    h = np.cos(lat)/np.cos(lat0)\n",
    "    return h\n",
    "def k_ecp_lat0(lat0):\n",
    "    global lat\n",
    "    k = np.cos(lat0)/np.cos(lat)\n",
    "    return k"
   ]
  },
  {
   "cell_type": "markdown",
   "metadata": {
    "slideshow": {
     "slide_type": "fragment"
    }
   },
   "source": [
    "Plot the local angular distortion $\\times$ surface: $e_{an} \\, S$."
   ]
  },
  {
   "cell_type": "code",
   "execution_count": 7,
   "metadata": {
    "collapsed": false,
    "slideshow": {
     "slide_type": "fragment"
    }
   },
   "outputs": [
    {
     "data": {
      "image/png": "[encoded data removed]",
      "text/plain": [
       "<matplotlib.figure.Figure at 0x117341358>"
      ]
     },
     "metadata": {},
     "output_type": "display_data"
    }
   ],
   "source": [
    "def plt_eanS_ecp_lat0(lat0):\n",
    "    global lat, P\n",
    "    h = h_ecp_lat0(lat0)\n",
    "    k = k_ecp_lat0(lat0)\n",
    "    f, ax = plt.subplots(1) # make figure and axis\n",
    "    ax.plot(eanS(h,k)*180/np.pi,lat*180/np.pi)\n",
    "    ax.set_xlabel('Local angular distortion $e_{an}$ (deg) * surface $S$')\n",
    "    ax.set_ylabel('Latitude $\\phi$ (deg)')\n",
    "    ax.set_xlim(xmin=0,xmax=180)\n",
    "    plt.show()\n",
    "    \n",
    "v = interactive(plt_eanS_ecp_lat0, lat0 = (0,90/180*np.pi,5/180*np.pi));\n",
    "display(v)"
   ]
  },
  {
   "cell_type": "markdown",
   "metadata": {
    "slideshow": {
     "slide_type": "fragment"
    }
   },
   "source": [
    "Notice:\n",
    "\n",
    "- Zero local angular distortion at $\\phi = \\frac{\\pi}{2}$ because $\\cos(\\phi) = 0$  \n",
    "- Zero local angular distortion at $\\phi = \\phi_0$ because no distortion at standard parallel\n",
    "\n",
    "For which $\\phi_0$ is the surface between the curve and the $y$-axis minimal?"
   ]
  },
  {
   "cell_type": "markdown",
   "metadata": {
    "slideshow": {
     "slide_type": "fragment"
    }
   },
   "source": [
    "Compute and plot average angular distortion $E_{an}$ for $\\phi_0$ = 0°, 5°, 10°, ... 60°."
   ]
  },
  {
   "cell_type": "code",
   "execution_count": 8,
   "metadata": {
    "collapsed": false,
    "slideshow": {
     "slide_type": "fragment"
    }
   },
   "outputs": [],
   "source": [
    "lat0_range = np.arange(0,95,5)/180*np.pi"
   ]
  },
  {
   "cell_type": "code",
   "execution_count": 9,
   "metadata": {
    "collapsed": false,
    "slideshow": {
     "slide_type": "fragment"
    }
   },
   "outputs": [],
   "source": [
    "Ean_ecp_lat0 = np.zeros(0) # create empty array\n",
    "\n",
    "for lat0 in lat0_range:\n",
    "    h = h_ecp_lat0(lat0)\n",
    "    k = k_ecp_lat0(lat0)\n",
    "    Ean_ecp_lat0 = np.append(Ean_ecp_lat0,E(eanS(h,k)))"
   ]
  },
  {
   "cell_type": "code",
   "execution_count": 11,
   "metadata": {
    "collapsed": false,
    "slideshow": {
     "slide_type": "fragment"
    }
   },
   "outputs": [
    {
     "data": {
      "image/png": "[encoded data removed]",
      "text/plain": [
       "<matplotlib.figure.Figure at 0x1170ba1d0>"
      ]
     },
     "metadata": {},
     "output_type": "display_data"
    }
   ],
   "source": [
    "f, ax = plt.subplots(1) # make figure and axis\n",
    "ax.plot(Ean_ecp_lat0*180/np.pi,lat0_range*180/np.pi,'b.-')\n",
    "ax.set_xlabel('Average angular distortion $E_{an}$ (deg)')\n",
    "ax.set_ylabel('Latitude of standard parallel $\\phi_0$ (deg)')\n",
    "ax.set_xlim(xmin=0)\n",
    "plt.show()"
   ]
  },
  {
   "cell_type": "markdown",
   "metadata": {
    "slideshow": {
     "slide_type": "fragment"
    }
   },
   "source": [
    "The average angular distortion is the smalles for $\\phi_0$ = 30°."
   ]
  },
  {
   "cell_type": "markdown",
   "metadata": {
    "slideshow": {
     "slide_type": "fragment"
    }
   },
   "source": [
    "Compare this to the various known secant Equivalent Cylindrical Projections:\n",
    "\n",
    "- Lambert $\\phi_0$ = 0°\n",
    "- Behrmann $\\phi_0$ = 30°\n",
    "- Gall-Peeters $\\phi_0$ = 45°\n",
    "\n",
    "Behrmann correctly computed position for the standard parallels in 1910, by minimising the angular distortion!"
   ]
  },
  {
   "cell_type": "markdown",
   "metadata": {
    "slideshow": {
     "slide_type": "fragment"
    }
   },
   "source": [
    "The Behrmann Projection  \n",
    "![Behrmann Projection](https://upload.wikimedia.org/wikipedia/commons/f/f5/Behrmann_projection_SW.jpg)"
   ]
  },
  {
   "cell_type": "markdown",
   "metadata": {
    "slideshow": {
     "slide_type": "slide"
    }
   },
   "source": [
    "### Ex. 1-bis: Equivalent Cylindrical Projection with varying Standard Parallel, weighted with landmass\n",
    "Redo these calculations while ony averaging over land areas."
   ]
  },
  {
   "cell_type": "markdown",
   "metadata": {
    "slideshow": {
     "slide_type": "fragment"
    }
   },
   "source": [
    "Download land polygons Shapefile from Natural Earth database"
   ]
  },
  {
   "cell_type": "code",
   "execution_count": 10,
   "metadata": {
    "collapsed": false,
    "slideshow": {
     "slide_type": "fragment"
    }
   },
   "outputs": [],
   "source": [
    "if not os.path.exists('downloads'):\n",
    "    os.makedirs('downloads')\n",
    "if not os.path.isfile('downloads/ne_110m_land.shp'): # Do this only if it doesn't already exist\n",
    "    urllib.request.urlretrieve('http://www.naturalearthdata.com/http//www.naturalearthdata.com/download/110m/physical/ne_110m_land.zip','downloads/ne_110m_land.zip')\n",
    "    zf = zipfile.ZipFile('downloads/ne_110m_land.zip')\n",
    "    zf.extractall('downloads')"
   ]
  },
  {
   "cell_type": "markdown",
   "metadata": {
    "slideshow": {
     "slide_type": "fragment"
    }
   },
   "source": [
    "Convert Shapefile to raster image."
   ]
  },
  {
   "cell_type": "code",
   "execution_count": 11,
   "metadata": {
    "collapsed": false,
    "slideshow": {
     "slide_type": "fragment"
    }
   },
   "outputs": [
    {
     "data": {
      "text/plain": [
       "0"
      ]
     },
     "execution_count": 11,
     "metadata": {},
     "output_type": "execute_result"
    }
   ],
   "source": [
    "os.system('gdal_rasterize -a scalerank -ot Byte -te -180 -90 180 90 -tr 1.0 1.0 -l ne_110m_land downloads/ne_110m_land.shp land.tif')"
   ]
  },
  {
   "cell_type": "markdown",
   "metadata": {
    "collapsed": false,
    "slideshow": {
     "slide_type": "fragment"
    }
   },
   "source": [
    "This calls the `gdal_rasterize` function through a terminal command (UNIX). It reads the `ne_110m_land.shp` file and creates a rasterized version: the `land.tif` file. The following options are specified:  \n",
    "* `-a scalerank` : the name of the attribute used in the input file\n",
    "* `-ot Byte` : the output is binairy (avoid using the default Float64)  \n",
    "* `-te -180 -90 180 90` : the input is considerd in the range x=-180...180 and y=-90...90 (default projection EPSG::4326)  \n",
    "* `-tr 1.0 1.0` : the target resolution is one pixel per 1.0-by-1.0 input block.  \n",
    "* `-l ne_110m_land` : the name of the layer to be considered\n",
    "\n",
    "Alternatively, one could use the osgeo.gdal package:  \n",
    "`from osgeo import gdal`  \n",
    "`raster = gdal.RasterizeLayer(...)`"
   ]
  },
  {
   "cell_type": "markdown",
   "metadata": {
    "slideshow": {
     "slide_type": "fragment"
    }
   },
   "source": [
    "Load the image into a variable. It is stored as a `numpy.ndarray`."
   ]
  },
  {
   "cell_type": "code",
   "execution_count": 12,
   "metadata": {
    "collapsed": false,
    "slideshow": {
     "slide_type": "fragment"
    }
   },
   "outputs": [
    {
     "data": {
      "text/plain": [
       "numpy.ndarray"
      ]
     },
     "execution_count": 12,
     "metadata": {},
     "output_type": "execute_result"
    },
    {
     "data": {
      "image/png": "[encoded data removed]",
      "text/plain": [
       "<matplotlib.figure.Figure at 0x11897acf8>"
      ]
     },
     "metadata": {},
     "output_type": "display_data"
    }
   ],
   "source": [
    "land_longlat = misc.imread('land.tif')\n",
    "plt.imshow(land_longlat,cmap=cm.Greys)\n",
    "type(land_longlat)"
   ]
  },
  {
   "cell_type": "markdown",
   "metadata": {
    "slideshow": {
     "slide_type": "fragment"
    }
   },
   "source": [
    "Count number of longitudes covered with land, by lattitude."
   ]
  },
  {
   "cell_type": "code",
   "execution_count": 14,
   "metadata": {
    "collapsed": false,
    "slideshow": {
     "slide_type": "fragment"
    }
   },
   "outputs": [],
   "source": [
    "land_lat=land_longlat.sum(axis=1) # Sum over second dimension = longitudes"
   ]
  },
  {
   "cell_type": "markdown",
   "metadata": {
    "slideshow": {
     "slide_type": "fragment"
    }
   },
   "source": [
    "Plot the result"
   ]
  },
  {
   "cell_type": "code",
   "execution_count": 15,
   "metadata": {
    "collapsed": false,
    "slideshow": {
     "slide_type": "fragment"
    }
   },
   "outputs": [
    {
     "data": {
      "image/png": "[encoded data removed]",
      "text/plain": [
       "<matplotlib.figure.Figure at 0x10a86da58>"
      ]
     },
     "metadata": {},
     "output_type": "display_data"
    }
   ],
   "source": [
    "f, ax = plt.subplots(1) # make figure and axis\n",
    "# ax.plot(land_lat,np.arange(0,180),'k')\n",
    "ax.fill_betweenx(np.arange(0,180), np.zeros(len(land_lat)), land_lat, color = 'k')\n",
    "ax.set_xlabel('Number of longitudes covered with land')\n",
    "ax.set_ylabel('Polar distance')\n",
    "ax.set_xlim(xmax=360)\n",
    "plt.gca().invert_yaxis()\n",
    "plt.show()"
   ]
  },
  {
   "cell_type": "markdown",
   "metadata": {
    "slideshow": {
     "slide_type": "fragment"
    }
   },
   "source": [
    "Convert this into values for $P$: a ratio of land, for latitudes from 0 to 90  \n",
    "Plot $P$"
   ]
  },
  {
   "cell_type": "code",
   "execution_count": 16,
   "metadata": {
    "collapsed": false,
    "slideshow": {
     "slide_type": "fragment"
    }
   },
   "outputs": [],
   "source": [
    "P_land = (land_lat[-91:-181:-1] + land_lat[90:180:1])/(2*360)"
   ]
  },
  {
   "cell_type": "code",
   "execution_count": 17,
   "metadata": {
    "collapsed": false,
    "slideshow": {
     "slide_type": "fragment"
    }
   },
   "outputs": [
    {
     "data": {
      "image/png": "[encoded data removed]",
      "text/plain": [
       "<matplotlib.figure.Figure at 0x10dc74278>"
      ]
     },
     "metadata": {},
     "output_type": "display_data"
    }
   ],
   "source": [
    "f, ax = plt.subplots(1) # make figure and axis\n",
    "# ax.plot(P_land,np.arange(0,90)+0.5,'k')\n",
    "ax.fill_betweenx(np.arange(0,90), np.zeros(len(P_land)), P_land, color = 'k')\n",
    "ax.set_xlabel('Fraction of land P_land')\n",
    "ax.set_ylabel('Latitude $\\phi$')\n",
    "ax.set_xlim(xmin=0,xmax=1)\n",
    "plt.show()"
   ]
  },
  {
   "cell_type": "markdown",
   "metadata": {
    "slideshow": {
     "slide_type": "fragment"
    }
   },
   "source": [
    "We use this $P$, and redo the calculations of the average angular distortion $E_{an}$"
   ]
  },
  {
   "cell_type": "code",
   "execution_count": 18,
   "metadata": {
    "collapsed": false,
    "slideshow": {
     "slide_type": "fragment"
    }
   },
   "outputs": [],
   "source": [
    "P = P_land"
   ]
  },
  {
   "cell_type": "code",
   "execution_count": 19,
   "metadata": {
    "collapsed": false,
    "slideshow": {
     "slide_type": "fragment"
    }
   },
   "outputs": [],
   "source": [
    "Ean_ecp_lat0_land = np.zeros(0)\n",
    "\n",
    "for lat0 in lat0_range:\n",
    "    h = h_ecp_lat0(lat0)\n",
    "    k = k_ecp_lat0(lat0)\n",
    "    Ean_ecp_lat0_land = np.append(Ean_ecp_lat0_land,E(eanS(h,k)))"
   ]
  },
  {
   "cell_type": "code",
   "execution_count": 20,
   "metadata": {
    "collapsed": false,
    "slideshow": {
     "slide_type": "fragment"
    }
   },
   "outputs": [
    {
     "data": {
      "image/png": "[encoded data removed]",
      "text/plain": [
       "<matplotlib.figure.Figure at 0x10dc14d30>"
      ]
     },
     "metadata": {},
     "output_type": "display_data"
    }
   ],
   "source": [
    "f, ax = plt.subplots(1) # make figure and axis\n",
    "ax.plot(Ean_ecp_lat0*180/np.pi,lat0_range*180/np.pi,'b.-')\n",
    "ax.plot(Ean_ecp_lat0_land*180/np.pi,lat0_range*180/np.pi,'r.-')\n",
    "ax.set_xlabel('Average angular distortion $E_{an}$ (deg)')\n",
    "ax.set_ylabel('Latitude of standard parallel $\\phi_0$ (deg)')\n",
    "ax.set_xlim(xmin=0)\n",
    "plt.show()"
   ]
  },
  {
   "cell_type": "markdown",
   "metadata": {
    "slideshow": {
     "slide_type": "fragment"
    }
   },
   "source": [
    "The optimal value for $\\phi_0$ is still around 30°.  \n",
    "\n",
    "There is quite some landmass is at high latitudes. For normal, low values of $\\phi_0$, the angular distortion is large at high latitudes. Therefore, the average angular distortion $E_{an}$ is higher for these $\\phi_0$ then when landmass is ignored, and the optimal value for $\\phi_0$ shifts (slightly) towards higher latitudes (but stays near 30°)."
   ]
  },
  {
   "cell_type": "markdown",
   "metadata": {
    "slideshow": {
     "slide_type": "fragment"
    }
   },
   "source": [
    "We reset $P$ to ones, and ignore landmass in the following exercises"
   ]
  },
  {
   "cell_type": "code",
   "execution_count": 21,
   "metadata": {
    "collapsed": false,
    "slideshow": {
     "slide_type": "fragment"
    }
   },
   "outputs": [],
   "source": [
    "P = P_ones"
   ]
  },
  {
   "cell_type": "markdown",
   "metadata": {
    "slideshow": {
     "slide_type": "fragment"
    }
   },
   "source": [
    "We have chosen $\\phi_0$ to minimise the average angular distortion $E_{an}$ in the Equivalent Cylindrical Projection ($E_{ar}=0$).  \n",
    "\n",
    "Could we choose $\\phi_0$ to minimise the average area distortion $E_{an}$ in the Conformal Cylindrical Projection (Mercator) ($E_{an}=0$)? Would this be a usefull way to obtain a good worldmap?"
   ]
  },
  {
   "cell_type": "markdown",
   "metadata": {
    "slideshow": {
     "slide_type": "fragment"
    }
   },
   "source": [
    "The problem with Mercator is the ever increasing distance between the parallels. \n",
    "\n",
    "- This makes it a bad projection for a worldmap in any circumstance.\n",
    "- The local area distortion $e_{ar}$ is so large at the poles, that this will dominate the average area distoriton $E_{ar}$ and lead to a bad choice for $\\phi_0$.\n",
    "\n",
    "Possible solutions?"
   ]
  },
  {
   "cell_type": "markdown",
   "metadata": {
    "slideshow": {
     "slide_type": "fragment"
    }
   },
   "source": [
    "- Stop integration at a $\\phi_{max}$, example $\\phi_{max}=80°$\n",
    "- Only integrate over landmass (excluding Antactrica)\n",
    "- Use logarithmic distortion measures (will make extreme distortions count less, but still a lot)\n",
    "- Modify projection to bring poles at finite distance (see Ex. 2)"
   ]
  },
  {
   "cell_type": "markdown",
   "metadata": {
    "collapsed": true,
    "slideshow": {
     "slide_type": "slide"
    }
   },
   "source": [
    "### Ex. 2: Conformal Cylindrical Projection with varying Miller Coefficients - Miller Projection\n",
    "Given the (non-secant) Conformal Cylindrical Projection (Mercator Projection), addapted with Miller coefficient $C$, which value for this coefficient yields the lowest angular and areal distortion over the entire sphere?"
   ]
  },
  {
   "cell_type": "markdown",
   "metadata": {
    "slideshow": {
     "slide_type": "fragment"
    }
   },
   "source": [
    "The American cartographer O.M. Miller added a parameter $C$ to the equations of the Mercator Projection:\n",
    "\n",
    "$ x = R \\lambda $  \n",
    "$ y = C R \\ln \\tan ( \\frac{\\pi}{4} + \\frac{\\phi}{2C} )$  \n",
    "\n",
    "$C$ allow to reduce the wide spacing of the parallels towards the poles, and brings the poles to finite distance.\n",
    "\n",
    "With $C = 1$ for normal Mercator. For high $C$ the projection starts to behave like the Equidistant Cylindrical Projection."
   ]
  },
  {
   "cell_type": "markdown",
   "metadata": {
    "slideshow": {
     "slide_type": "fragment"
    }
   },
   "source": [
    "Because of the added $C$, we must first again derive $h$ and $k$ analyticaly.\n",
    "\n",
    "Determine\n",
    "\n",
    "$h = \\frac{\\mathrm{d}y}{R\\mathrm{d}\\phi}$  \n",
    "$k = \\frac{\\mathrm{d}x}{R\\cos\\phi\\mathrm{d}\\lambda}$"
   ]
  },
  {
   "cell_type": "markdown",
   "metadata": {
    "slideshow": {
     "slide_type": "fragment"
    }
   },
   "source": [
    "Solution\n",
    "\n",
    "$h = \\frac{1}{\\cos\\frac{\\phi}{C}}$  \n",
    "$k = \\frac{1}{\\cos\\phi}$"
   ]
  },
  {
   "cell_type": "markdown",
   "metadata": {
    "slideshow": {
     "slide_type": "fragment"
    }
   },
   "source": [
    "Define $h$ and $k$ for this projection, for varying $C$"
   ]
  },
  {
   "cell_type": "code",
   "execution_count": 22,
   "metadata": {
    "collapsed": true,
    "slideshow": {
     "slide_type": "fragment"
    }
   },
   "outputs": [],
   "source": [
    "def h_ccp_C(C):\n",
    "    global lat\n",
    "    h = 1/np.cos(lat/C)\n",
    "    return h\n",
    "def k_ccp_C(C):\n",
    "    global lat\n",
    "    k = 1/np.cos(lat)\n",
    "    return k"
   ]
  },
  {
   "cell_type": "markdown",
   "metadata": {
    "slideshow": {
     "slide_type": "fragment"
    }
   },
   "source": [
    "Plot the local angular and area distortion $\\times$ surface: $e_{an} \\, S$ and $e_{ar} \\, S$"
   ]
  },
  {
   "cell_type": "code",
   "execution_count": 23,
   "metadata": {
    "collapsed": false,
    "slideshow": {
     "slide_type": "fragment"
    }
   },
   "outputs": [
    {
     "data": {
      "image/png": "[encoded data removed]",
      "text/plain": [
       "<matplotlib.figure.Figure at 0x10dd3f5f8>"
      ]
     },
     "metadata": {},
     "output_type": "display_data"
    }
   ],
   "source": [
    "def plt_eanS_earS_ccp_C(C):\n",
    "    global lat, P\n",
    "    h = h_ccp_C(C)\n",
    "    k = k_ccp_C(C)\n",
    "    f, (ax1, ax2) = plt.subplots(1, 2) # make figure and axis\n",
    "    f.tight_layout()\n",
    "    ax1.plot(eanS(h,k)*180/np.pi,lat*180/np.pi)\n",
    "    ax1.set_xlabel('Local angular distortion $e_{an}$ (deg) * surface $S$')\n",
    "    ax1.set_ylabel('Latitude $\\phi$ (deg)')\n",
    "    ax1.set_xlim(xmin=0,xmax=180)\n",
    "    ax2.plot(earS(h,k),lat*180/np.pi)\n",
    "    ax2.set_xlabel('Local area distortion $e_{ar}$ * surface $S$')\n",
    "    ax2.set_ylabel('Latitude $\\phi$ (deg)')\n",
    "    ax2.set_xlim(xmax=10)\n",
    "    plt.show()\n",
    "    \n",
    "v = interactive(plt_eanS_earS_ccp_C, C = (1,1.8,0.1));\n",
    "display(v)"
   ]
  },
  {
   "cell_type": "markdown",
   "metadata": {
    "slideshow": {
     "slide_type": "fragment"
    }
   },
   "source": [
    "Notice how the local angular distortion $e_{an}$ grows and local area distortion $e_{ar}$ shrinks as $C$ grows.\n",
    "\n",
    "Also (see earlier remarks on Mercator Projection):  \n",
    "For $C=1$, at $\\phi = \\frac{\\pi}{2}$, $S = P \\cos \\phi = 0$, but this is not able to bring the local area distortion $e_{ar}$ to finite values!"
   ]
  },
  {
   "cell_type": "markdown",
   "metadata": {
    "slideshow": {
     "slide_type": "fragment"
    }
   },
   "source": [
    "Compute and plot the average angular distortion $E_{an}$ and average area distortion $E_{ar}$ for $C$ = 1, 1.1, ..., 1.7."
   ]
  },
  {
   "cell_type": "code",
   "execution_count": 24,
   "metadata": {
    "collapsed": false,
    "slideshow": {
     "slide_type": "fragment"
    }
   },
   "outputs": [],
   "source": [
    "C_range = np.arange(1,1.8,0.1)"
   ]
  },
  {
   "cell_type": "code",
   "execution_count": 25,
   "metadata": {
    "collapsed": false,
    "slideshow": {
     "slide_type": "fragment"
    }
   },
   "outputs": [],
   "source": [
    "Ean_ccp_C = np.zeros(0)\n",
    "\n",
    "for C in C_range:\n",
    "    h = h_ccp_C(C)\n",
    "    k = k_ccp_C(C)\n",
    "    Ean_ccp_C = np.append(Ean_ccp_C,E(eanS(h,k)))\n",
    "    \n",
    "Ear_ccp_C = np.zeros(0)\n",
    "\n",
    "for C in C_range:\n",
    "    h = h_ccp_C(C)\n",
    "    k = k_ccp_C(C)\n",
    "    Ear_ccp_C = np.append(Ear_ccp_C,E(earS(h,k)))"
   ]
  },
  {
   "cell_type": "code",
   "execution_count": 26,
   "metadata": {
    "collapsed": false,
    "slideshow": {
     "slide_type": "fragment"
    }
   },
   "outputs": [
    {
     "data": {
      "image/png": "[encoded data removed]",
      "text/plain": [
       "<matplotlib.figure.Figure at 0x10e39c9b0>"
      ]
     },
     "metadata": {},
     "output_type": "display_data"
    }
   ],
   "source": [
    "f, (ax1, ax2) = plt.subplots(1, 2) # make figure and axis\n",
    "f.tight_layout()\n",
    "ax1.plot(Ean_ccp_C*180/np.pi,C_range,'b.-')\n",
    "ax1.set_xlabel('Average angular distortion $E_{an}$ (deg)')\n",
    "ax1.set_ylabel('$C$')\n",
    "ax1.set_xlim(xmin=0)\n",
    "ax2.plot(Ear_ccp_C,C_range,'b.-')\n",
    "ax2.set_xlabel('Average area distortion $E_{ar}$')\n",
    "ax2.set_ylabel('$C$')\n",
    "ax.set_xlim(xmin=0)\n",
    "plt.show()"
   ]
  },
  {
   "cell_type": "markdown",
   "metadata": {
    "slideshow": {
     "slide_type": "fragment"
    }
   },
   "source": [
    "The same trend is observed: the average angular distortion $E_{an}$ grows and the avergae area distortion $E_{ar}$ shrinks as $C$ grows. The projection is conformal for $C=1$, and loses its conformaty for $C>1$ in return for lower area distortion.\n",
    "\n",
    "Notice how $C=1.1$ leads to a dramatic reduction of $E_{ar}$ and only a relatively small increase in $E_{an}$.\n",
    "\n",
    "It is difficult to find an optimal value for $C$ by comparing both measures, since they have different units (degrees/radians vs. dimensionless). This can, for example, be done using a uniform measure like the average mean linear scale factor (Ex.4.).\n",
    "\n",
    "Miller proposed two values for $C$ (1942): \n",
    "\n",
    "- $C = 1.25$, known as 'the' Miller Cylindrical Projection (EPSG:54003)\n",
    "- $C = 1.5$"
   ]
  },
  {
   "cell_type": "markdown",
   "metadata": {
    "slideshow": {
     "slide_type": "fragment"
    }
   },
   "source": [
    "The Miller Projection  \n",
    "![Miller Projection](https://upload.wikimedia.org/wikipedia/commons/5/5f/Miller_projection_SW.jpg)"
   ]
  },
  {
   "cell_type": "markdown",
   "metadata": {
    "collapsed": false,
    "slideshow": {
     "slide_type": "slide"
    }
   },
   "source": [
    "### Ex. 3: Equivalent Cylindrical Projection with varying Miller Coefficients\n",
    "Given the (non-secant) Equivalent Cylindrical Projection, addapted with Miller coefficient $C$, which value for this coefficient yields the lowest angular and areal distortion over the entire sphere?"
   ]
  },
  {
   "cell_type": "markdown",
   "metadata": {
    "slideshow": {
     "slide_type": "fragment"
    }
   },
   "source": [
    "We add a coefficient $C$ to the Equivalent Cylindrical Projection, in the same fashion as with Miller:\n",
    "\n",
    "$ x = R \\lambda $  \n",
    "$ y = C R \\sin \\frac{\\phi}{C}$  \n",
    "\n",
    "This time, $C$ allow to enlarge the narrow spacing of the parallels towards the poles.\n",
    "\n",
    "With $C = 1$ for normal equivalent. For high $C$ the projection also starts to behave like the Equidistant Cylindrical Projection."
   ]
  },
  {
   "cell_type": "markdown",
   "metadata": {
    "slideshow": {
     "slide_type": "fragment"
    }
   },
   "source": [
    "Because of the added $C$, we must first again derive $h$ and $k$ analyticaly.\n",
    "\n",
    "Determine\n",
    "\n",
    "$h = \\frac{\\mathrm{d}y}{R\\mathrm{d}\\phi}$  \n",
    "$k = \\frac{\\mathrm{d}x}{R\\cos\\phi\\mathrm{d}\\lambda}$"
   ]
  },
  {
   "cell_type": "markdown",
   "metadata": {
    "slideshow": {
     "slide_type": "fragment"
    }
   },
   "source": [
    "Solution\n",
    "\n",
    "$h = \\cos\\frac{\\phi}{C}$  \n",
    "$k = \\frac{1}{\\cos\\phi}$"
   ]
  },
  {
   "cell_type": "markdown",
   "metadata": {
    "slideshow": {
     "slide_type": "fragment"
    }
   },
   "source": [
    "Define $h$ and $k$ for this projection, for varying $C$"
   ]
  },
  {
   "cell_type": "code",
   "execution_count": 27,
   "metadata": {
    "collapsed": false,
    "slideshow": {
     "slide_type": "fragment"
    }
   },
   "outputs": [],
   "source": [
    "def h_ecp_C(C):\n",
    "    global lat\n",
    "    h = np.cos(lat/C)\n",
    "    return h\n",
    "def k_ecp_C(C):\n",
    "    global lat\n",
    "    k = 1/np.cos(lat)\n",
    "    return k"
   ]
  },
  {
   "cell_type": "markdown",
   "metadata": {
    "slideshow": {
     "slide_type": "fragment"
    }
   },
   "source": [
    "Plot the local angular and area distortion $\\times$ surface: $e_{an} \\, S$ and $e_{ar} \\, S$"
   ]
  },
  {
   "cell_type": "code",
   "execution_count": 28,
   "metadata": {
    "collapsed": false,
    "slideshow": {
     "slide_type": "fragment"
    }
   },
   "outputs": [
    {
     "data": {
      "image/png": "[encoded data removed]",
      "text/plain": [
       "<matplotlib.figure.Figure at 0x10e0c2be0>"
      ]
     },
     "metadata": {},
     "output_type": "display_data"
    }
   ],
   "source": [
    "def plt_eanS_earS_ecp_C(C):\n",
    "    global lat, P\n",
    "    h = h_ecp_C(C)\n",
    "    k = k_ecp_C(C)\n",
    "    f, (ax1, ax2) = plt.subplots(1, 2) # make figure and axis\n",
    "    f.tight_layout()\n",
    "    ax1.plot(eanS(h,k)*180/np.pi,lat*180/np.pi)\n",
    "    ax1.set_xlabel('Local angular distortion $e_{an}$ (deg) * surface $S$')\n",
    "    ax1.set_ylabel('Latitude $\\phi$ (deg)')\n",
    "    ax1.set_xlim(xmin=0,xmax=180)\n",
    "    ax2.plot(earS(h,k),lat*180/np.pi)\n",
    "    ax2.set_xlabel('Local area distortion $e_{ar}$ * surface $S$')\n",
    "    ax2.set_ylabel('Latitude $\\phi$ (deg)')\n",
    "    ax2.set_xlim(xmax=10)\n",
    "    plt.show()\n",
    "\n",
    "v = interactive(plt_eanS_earS_ecp_C, C = (1,1.8,0.1));\n",
    "display(v)"
   ]
  },
  {
   "cell_type": "markdown",
   "metadata": {
    "slideshow": {
     "slide_type": "fragment"
    }
   },
   "source": [
    "Notice how the local angular distortion $e_{an}$ shrinks and local area distortion $e_{ar}$ grows as $C$ grows."
   ]
  },
  {
   "cell_type": "markdown",
   "metadata": {
    "slideshow": {
     "slide_type": "fragment"
    }
   },
   "source": [
    "Compute and plot the average angular distortion $E_{an}$ and average area distortion $E_{ar}$ for $C$ = 1, 1.1, ..., 1.7."
   ]
  },
  {
   "cell_type": "code",
   "execution_count": 29,
   "metadata": {
    "collapsed": false,
    "slideshow": {
     "slide_type": "fragment"
    }
   },
   "outputs": [],
   "source": [
    "C_range = np.arange(1,1.8,0.1)\n",
    "\n",
    "Ean_ecp_C = np.zeros(0)\n",
    "\n",
    "for C in C_range:\n",
    "    h = h_ecp_C(C)\n",
    "    k = k_ecp_C(C)\n",
    "    Ean_ecp_C = np.append(Ean_ecp_C,E(eanS(h,k)))\n",
    "    \n",
    "Ear_ecp_C = np.zeros(0)\n",
    "\n",
    "for C in C_range:\n",
    "    h = h_ecp_C(C)\n",
    "    k = k_ecp_C(C)\n",
    "    Ear_ecp_C = np.append(Ear_ecp_C,E(earS(h,k)))"
   ]
  },
  {
   "cell_type": "code",
   "execution_count": 30,
   "metadata": {
    "collapsed": false,
    "slideshow": {
     "slide_type": "fragment"
    }
   },
   "outputs": [
    {
     "data": {
      "image/png": "[encoded data removed]",
      "text/plain": [
       "<matplotlib.figure.Figure at 0x10dc85c88>"
      ]
     },
     "metadata": {},
     "output_type": "display_data"
    }
   ],
   "source": [
    "f, (ax1, ax2) = plt.subplots(1, 2) # make figure and axis\n",
    "f.tight_layout()\n",
    "ax1.plot(Ean_ecp_C*180/np.pi,C_range,'b.-')\n",
    "ax1.set_xlabel('Average angular distortion $E_{an}$ (deg)')\n",
    "ax1.set_ylabel('$C$')\n",
    "ax1.set_xlim(xmin=0)\n",
    "ax2.plot(Ear_ecp_C,C_range,'b.-')\n",
    "ax2.set_xlabel('Average areal distortion $E_{ar}$')\n",
    "ax2.set_ylabel('$C$')\n",
    "ax.set_xlim(xmin=0)\n",
    "plt.show()"
   ]
  },
  {
   "cell_type": "markdown",
   "metadata": {
    "slideshow": {
     "slide_type": "fragment"
    }
   },
   "source": [
    "The same trend is observed: the average angular distortion $E_{an}$ shrinks and the avergae area distortion $E_{ar}$ grows as $C$ grows. The projection is equivalent for $C=1$, and loses its equivalence for $C>1$ in return for lower angular distortion."
   ]
  },
  {
   "cell_type": "markdown",
   "metadata": {
    "slideshow": {
     "slide_type": "slide"
    }
   },
   "source": [
    "### Ex. 4: Conformal Cylindrical Projection and Equivalent Cylindrical Projection with varying Miller Coefficients, measured using Average Linear Scalefactor\n",
    "For all projections in Ex. 2 and Ex. 3, compute and plot the average mean linear distortion vs. $C$."
   ]
  },
  {
   "cell_type": "markdown",
   "metadata": {
    "collapsed": true,
    "slideshow": {
     "slide_type": "fragment"
    }
   },
   "source": [
    "Try it yourself!"
   ]
  },
  {
   "cell_type": "markdown",
   "metadata": {
    "slideshow": {
     "slide_type": "slide"
    }
   },
   "source": [
    "### Takeway from this course\n",
    "There will be no coding or pc-session in the exam. \n",
    "\n",
    "However, you are expected to understand the main insights about projection optimisation from this course. Make sure you: \n",
    "\n",
    "- know which parameters one can tune\n",
    "- how average distortion is computed from local distortion\n",
    "- which distortion measures one can use\n",
    "- what are the options to optimise equivalent, conformal and other projections\n",
    "- how you expect the local distortion * surface to vary by latitude for the main projection types and how and why this changes with the tuned parameter value\n",
    "- how the average distortion depends on the parameter\n",
    "- ..."
   ]
  }
 ],
 "metadata": {
  "celltoolbar": "Raw Cell Format",
  "kernelspec": {
   "display_name": "Python 3",
   "language": "python",
   "name": "python3"
  },
  "language_info": {
   "codemirror_mode": {
    "name": "ipython",
    "version": 3
   },
   "file_extension": ".py",
   "mimetype": "text/x-python",
   "name": "python",
   "nbconvert_exporter": "python",
   "pygments_lexer": "ipython3",
   "version": "3.5.1"
  }
 },
 "nbformat": 4,
 "nbformat_minor": 0
}
